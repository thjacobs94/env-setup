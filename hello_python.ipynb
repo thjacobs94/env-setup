{
 "cells": [
  {
   "cell_type": "markdown",
   "id": "bb839bca-3472-465b-a6da-5a650b85f75c",
   "metadata": {},
   "source": [
    "# Hello World in Python\n",
    "This notebook demonstrates a simple \"Hello, World!\" script in Python."
   ]
  },
  {
   "cell_type": "code",
   "execution_count": 1,
   "id": "e0883ba9-fe44-4fb0-80bf-e7117f63c1b0",
   "metadata": {},
   "outputs": [
    {
     "name": "stdout",
     "output_type": "stream",
     "text": [
      "Hello, World from Python!\n"
     ]
    }
   ],
   "source": [
    "print(\"Hello, World from Python!\")"
   ]
  },
  {
   "cell_type": "code",
   "execution_count": null,
   "id": "2b9ead04-9ebb-48fb-8af9-85716f78c340",
   "metadata": {},
   "outputs": [],
   "source": []
  }
 ],
 "metadata": {
  "kernelspec": {
   "display_name": "Python (7030_class_1)",
   "language": "python",
   "name": "7030_class_1"
  },
  "language_info": {
   "codemirror_mode": {
    "name": "ipython",
    "version": 3
   },
   "file_extension": ".py",
   "mimetype": "text/x-python",
   "name": "python",
   "nbconvert_exporter": "python",
   "pygments_lexer": "ipython3",
   "version": "3.10.18"
  }
 },
 "nbformat": 4,
 "nbformat_minor": 5
}
