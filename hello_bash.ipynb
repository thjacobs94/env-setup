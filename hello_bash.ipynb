{
 "cells": [
  {
   "cell_type": "code",
   "execution_count": 1,
   "id": "7dd3b87f-e716-4704-a8cc-e5d806c1e8c8",
   "metadata": {},
   "outputs": [
    {
     "ename": "SyntaxError",
     "evalue": "invalid syntax (933993977.py, line 2)",
     "output_type": "error",
     "traceback": [
      "\u001b[0;36m  Cell \u001b[0;32mIn[1], line 2\u001b[0;36m\u001b[0m\n\u001b[0;31m    echo \"Hello, World!\"\u001b[0m\n\u001b[0m         ^\u001b[0m\n\u001b[0;31mSyntaxError\u001b[0m\u001b[0;31m:\u001b[0m invalid syntax\n"
     ]
    }
   ],
   "source": [
    "#!/bin/bash\n",
    "echo \"Hello, World!\""
   ]
  },
  {
   "cell_type": "code",
   "execution_count": 2,
   "id": "1b2b16ba-3257-4232-bc2a-bdc3910f806a",
   "metadata": {},
   "outputs": [
    {
     "ename": "SyntaxError",
     "evalue": "invalid syntax (4226753051.py, line 1)",
     "output_type": "error",
     "traceback": [
      "\u001b[0;36m  Cell \u001b[0;32mIn[2], line 1\u001b[0;36m\u001b[0m\n\u001b[0;31m    chmod +x hello.sh\u001b[0m\n\u001b[0m             ^\u001b[0m\n\u001b[0;31mSyntaxError\u001b[0m\u001b[0;31m:\u001b[0m invalid syntax\n"
     ]
    }
   ],
   "source": [
    "chmod +x hello.sh\n",
    "./hello.sh"
   ]
  },
  {
   "cell_type": "code",
   "execution_count": 3,
   "id": "86961d18-219d-4fb1-893f-cd8c1dac45eb",
   "metadata": {},
   "outputs": [
    {
     "name": "stdout",
     "output_type": "stream",
     "text": [
      "/users/PAS2797/thjacobs94/bash_tutorial\n"
     ]
    }
   ],
   "source": [
    "cd ~/bash_tutorial"
   ]
  },
  {
   "cell_type": "code",
   "execution_count": 4,
   "id": "ac580d28-8122-4a1c-9cc8-de6898ce1720",
   "metadata": {},
   "outputs": [
    {
     "name": "stdout",
     "output_type": "stream",
     "text": [
      "environment.yml     hello.py.txt   \u001b[0m\u001b[01;32mhello.sh\u001b[0m*         Untitled.ipynb\n",
      "hello_bash.ipynb    \u001b[01;32mhello.R\u001b[0m*       hello.sh.txt\n",
      "\u001b[01;32mhello.py\u001b[0m*           hello_r.ipynb  requirements.txt\n",
      "hello_python.ipynb  hello.R.txt    setup_env.sh\n"
     ]
    }
   ],
   "source": [
    "ls"
   ]
  },
  {
   "cell_type": "code",
   "execution_count": null,
   "id": "faf2e273-7972-451a-91fd-6335535dca23",
   "metadata": {},
   "outputs": [],
   "source": []
  }
 ],
 "metadata": {
  "kernelspec": {
   "display_name": "Python (7030_class_1)",
   "language": "python",
   "name": "7030_class_1"
  },
  "language_info": {
   "codemirror_mode": {
    "name": "ipython",
    "version": 3
   },
   "file_extension": ".py",
   "mimetype": "text/x-python",
   "name": "python",
   "nbconvert_exporter": "python",
   "pygments_lexer": "ipython3",
   "version": "3.10.18"
  }
 },
 "nbformat": 4,
 "nbformat_minor": 5
}
